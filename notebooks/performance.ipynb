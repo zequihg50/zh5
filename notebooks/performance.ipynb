{
 "cells": [
  {
   "cell_type": "markdown",
   "id": "05ecdd48-0721-445e-83c0-277331974fc7",
   "metadata": {},
   "source": [
    "# zh5\n",
    "\n",
    "Yet another HDF5 reader."
   ]
  },
  {
   "cell_type": "code",
   "execution_count": 1,
   "id": "c0023dbb-1743-4323-b23e-abd5efd41822",
   "metadata": {},
   "outputs": [],
   "source": [
    "import zh5"
   ]
  },
  {
   "cell_type": "markdown",
   "id": "6ebfa32a-aa15-442f-bf22-3ba81314ce8c",
   "metadata": {},
   "source": [
    "## Performance"
   ]
  },
  {
   "cell_type": "code",
   "execution_count": 2,
   "id": "dd3bd21b-3c17-4324-9c5b-67a76916399f",
   "metadata": {},
   "outputs": [],
   "source": [
    "import time"
   ]
  },
  {
   "cell_type": "markdown",
   "id": "2b767ea9-8d91-46d1-b246-103c8b46a814",
   "metadata": {},
   "source": [
    "Perfomance description:\n",
    "\n",
    "- Remote data access to object storage (OpenStack Object Store project, known as **Swift**).\n",
    "- Same file formated as:\n",
    "  - HDF5 page aggregated file (page size of 4096 bytes).\n",
    "  - HDF5 split file (metadata and raw data files)."
   ]
  },
  {
   "cell_type": "code",
   "execution_count": 3,
   "id": "241071d9-a079-4c86-9cd7-13fb19babd15",
   "metadata": {},
   "outputs": [],
   "source": [
    "results = []"
   ]
  },
  {
   "cell_type": "markdown",
   "id": "05310dbe-b69e-4655-a736-b4283aa66afb",
   "metadata": {},
   "source": [
    "### Page file"
   ]
  },
  {
   "cell_type": "code",
   "execution_count": 4,
   "id": "d7e03867-c97f-4422-a994-6311a6da5d40",
   "metadata": {},
   "outputs": [],
   "source": [
    "for run in range(3):\n",
    "    open_start = time.time()\n",
    "    f = zh5.PagedFile(\"https://api.cloud.ifca.es:8080/swift/v1/tests/ch330a.pc19790301-def.nc\")\n",
    "    open_end = time.time()\n",
    "    \n",
    "    dataset_start = time.time()\n",
    "    ds = f[\"UM_m01s30i204_vn1106\"]\n",
    "    dataset_end = time.time()\n",
    "    \n",
    "    read_start = time.time()\n",
    "    ts = ds[:, 0, 0:960, :].mean(axis=(1, 2, 3))\n",
    "    read_end = time.time()\n",
    "    \n",
    "    f.close()\n",
    "    \n",
    "    results.append({\n",
    "        \"type\": \"page\",\n",
    "        \"run\": run,\n",
    "        \"open\": open_end - open_start,\n",
    "        \"lookup\": dataset_end - dataset_start,\n",
    "        \"read\": read_end - read_start,\n",
    "        \"cache_hits\": f.cache_hits,\n",
    "        \"cache_misses\": f.cache_misses,\n",
    "    })"
   ]
  },
  {
   "cell_type": "markdown",
   "id": "30639015-4ac0-4be9-9f44-e647f66be387",
   "metadata": {},
   "source": [
    "### Split file"
   ]
  },
  {
   "cell_type": "code",
   "execution_count": 5,
   "id": "29d9c780-b996-4d31-ba37-4b8eaded55b8",
   "metadata": {},
   "outputs": [],
   "source": [
    "for run in range(3):\n",
    "    open_start = time.time()\n",
    "    f = zh5.SplitFile(\"https://api.cloud.ifca.es:8080/swift/v1/tests/ch330a.pc19790301-def\")\n",
    "    open_end = time.time()\n",
    "    \n",
    "    dataset_start = time.time()\n",
    "    ds = f[\"UM_m01s30i204_vn1106\"]\n",
    "    dataset_end = time.time()\n",
    "    \n",
    "    read_start = time.time()\n",
    "    ts = ds[:, 0, 0:960, :].mean(axis=(1, 2, 3))\n",
    "    read_end = time.time()\n",
    "    \n",
    "    f.close()\n",
    "    \n",
    "    results.append({\n",
    "        \"type\": \"split\",\n",
    "        \"run\": run,\n",
    "        \"open\": open_end - open_start,\n",
    "        \"lookup\": dataset_end - dataset_start,\n",
    "        \"read\": read_end - read_start,\n",
    "        \"cache_hits\": None,\n",
    "        \"cache_misses\": None,\n",
    "    })"
   ]
  },
  {
   "cell_type": "markdown",
   "id": "6e7b5799-d01a-4397-9d2f-56e4eb05e43b",
   "metadata": {},
   "source": [
    "### Regular file\n",
    "\n",
    "Don't ever bother ..."
   ]
  },
  {
   "cell_type": "markdown",
   "id": "52f0e3fb-ffd4-4abe-8b4c-0a6bea94d1c4",
   "metadata": {},
   "source": [
    "## Analysis"
   ]
  },
  {
   "cell_type": "code",
   "execution_count": 6,
   "id": "10db5a61-1d9a-4488-842d-6439728e69bc",
   "metadata": {},
   "outputs": [],
   "source": [
    "import pandas as pd"
   ]
  },
  {
   "cell_type": "code",
   "execution_count": 7,
   "id": "5049e34f-701e-4598-919b-640658acd8cc",
   "metadata": {},
   "outputs": [
    {
     "data": {
      "text/html": [
       "<div>\n",
       "<style scoped>\n",
       "    .dataframe tbody tr th:only-of-type {\n",
       "        vertical-align: middle;\n",
       "    }\n",
       "\n",
       "    .dataframe tbody tr th {\n",
       "        vertical-align: top;\n",
       "    }\n",
       "\n",
       "    .dataframe thead th {\n",
       "        text-align: right;\n",
       "    }\n",
       "</style>\n",
       "<table border=\"1\" class=\"dataframe\">\n",
       "  <thead>\n",
       "    <tr style=\"text-align: right;\">\n",
       "      <th></th>\n",
       "      <th>type</th>\n",
       "      <th>run</th>\n",
       "      <th>open</th>\n",
       "      <th>lookup</th>\n",
       "      <th>read</th>\n",
       "      <th>cache_hits</th>\n",
       "      <th>cache_misses</th>\n",
       "    </tr>\n",
       "  </thead>\n",
       "  <tbody>\n",
       "    <tr>\n",
       "      <th>0</th>\n",
       "      <td>page</td>\n",
       "      <td>0</td>\n",
       "      <td>1.691056</td>\n",
       "      <td>12.839349</td>\n",
       "      <td>5.881265</td>\n",
       "      <td>4121.0</td>\n",
       "      <td>56.0</td>\n",
       "    </tr>\n",
       "    <tr>\n",
       "      <th>1</th>\n",
       "      <td>page</td>\n",
       "      <td>1</td>\n",
       "      <td>1.814325</td>\n",
       "      <td>13.172610</td>\n",
       "      <td>6.382858</td>\n",
       "      <td>4121.0</td>\n",
       "      <td>56.0</td>\n",
       "    </tr>\n",
       "    <tr>\n",
       "      <th>2</th>\n",
       "      <td>page</td>\n",
       "      <td>2</td>\n",
       "      <td>1.966927</td>\n",
       "      <td>12.867188</td>\n",
       "      <td>6.005512</td>\n",
       "      <td>4121.0</td>\n",
       "      <td>56.0</td>\n",
       "    </tr>\n",
       "    <tr>\n",
       "      <th>3</th>\n",
       "      <td>split</td>\n",
       "      <td>0</td>\n",
       "      <td>1.923662</td>\n",
       "      <td>0.007544</td>\n",
       "      <td>5.495594</td>\n",
       "      <td>NaN</td>\n",
       "      <td>NaN</td>\n",
       "    </tr>\n",
       "    <tr>\n",
       "      <th>4</th>\n",
       "      <td>split</td>\n",
       "      <td>1</td>\n",
       "      <td>1.499715</td>\n",
       "      <td>0.015313</td>\n",
       "      <td>5.598474</td>\n",
       "      <td>NaN</td>\n",
       "      <td>NaN</td>\n",
       "    </tr>\n",
       "    <tr>\n",
       "      <th>5</th>\n",
       "      <td>split</td>\n",
       "      <td>2</td>\n",
       "      <td>2.020635</td>\n",
       "      <td>0.015629</td>\n",
       "      <td>6.057909</td>\n",
       "      <td>NaN</td>\n",
       "      <td>NaN</td>\n",
       "    </tr>\n",
       "  </tbody>\n",
       "</table>\n",
       "</div>"
      ],
      "text/plain": [
       "    type  run      open     lookup      read  cache_hits  cache_misses\n",
       "0   page    0  1.691056  12.839349  5.881265      4121.0          56.0\n",
       "1   page    1  1.814325  13.172610  6.382858      4121.0          56.0\n",
       "2   page    2  1.966927  12.867188  6.005512      4121.0          56.0\n",
       "3  split    0  1.923662   0.007544  5.495594         NaN           NaN\n",
       "4  split    1  1.499715   0.015313  5.598474         NaN           NaN\n",
       "5  split    2  2.020635   0.015629  6.057909         NaN           NaN"
      ]
     },
     "execution_count": 7,
     "metadata": {},
     "output_type": "execute_result"
    }
   ],
   "source": [
    "df = pd.DataFrame.from_records(results)\n",
    "df"
   ]
  },
  {
   "cell_type": "markdown",
   "id": "f7079495-a11b-462b-a9b9-aec5597a65c9",
   "metadata": {},
   "source": [
    "Pay attention to the `lookup` column, which records the time required to locate the dataset in the file. In an HDF5 paged file, **56** `cache_misses` occur, which causes 56 HTTP connections to locate metada in the file. In an HDF5 split file, all metada is loaded into memory when opening the file, thus the low values for lookup."
   ]
  },
  {
   "cell_type": "code",
   "execution_count": 8,
   "id": "948d2e6f-e0bd-4934-883a-97910093f8ef",
   "metadata": {},
   "outputs": [
    {
     "data": {
      "text/html": [
       "<div>\n",
       "<style scoped>\n",
       "    .dataframe tbody tr th:only-of-type {\n",
       "        vertical-align: middle;\n",
       "    }\n",
       "\n",
       "    .dataframe tbody tr th {\n",
       "        vertical-align: top;\n",
       "    }\n",
       "\n",
       "    .dataframe thead th {\n",
       "        text-align: right;\n",
       "    }\n",
       "</style>\n",
       "<table border=\"1\" class=\"dataframe\">\n",
       "  <thead>\n",
       "    <tr style=\"text-align: right;\">\n",
       "      <th></th>\n",
       "      <th>run</th>\n",
       "      <th>open</th>\n",
       "      <th>lookup</th>\n",
       "      <th>read</th>\n",
       "      <th>cache_hits</th>\n",
       "      <th>cache_misses</th>\n",
       "    </tr>\n",
       "    <tr>\n",
       "      <th>type</th>\n",
       "      <th></th>\n",
       "      <th></th>\n",
       "      <th></th>\n",
       "      <th></th>\n",
       "      <th></th>\n",
       "      <th></th>\n",
       "    </tr>\n",
       "  </thead>\n",
       "  <tbody>\n",
       "    <tr>\n",
       "      <th>page</th>\n",
       "      <td>1.0</td>\n",
       "      <td>1.824102</td>\n",
       "      <td>12.959716</td>\n",
       "      <td>6.089878</td>\n",
       "      <td>4121.0</td>\n",
       "      <td>56.0</td>\n",
       "    </tr>\n",
       "    <tr>\n",
       "      <th>split</th>\n",
       "      <td>1.0</td>\n",
       "      <td>1.814671</td>\n",
       "      <td>0.012829</td>\n",
       "      <td>5.717326</td>\n",
       "      <td>NaN</td>\n",
       "      <td>NaN</td>\n",
       "    </tr>\n",
       "  </tbody>\n",
       "</table>\n",
       "</div>"
      ],
      "text/plain": [
       "       run      open     lookup      read  cache_hits  cache_misses\n",
       "type                                                               \n",
       "page   1.0  1.824102  12.959716  6.089878      4121.0          56.0\n",
       "split  1.0  1.814671   0.012829  5.717326         NaN           NaN"
      ]
     },
     "execution_count": 8,
     "metadata": {},
     "output_type": "execute_result"
    }
   ],
   "source": [
    "df.groupby(\"type\").mean()"
   ]
  },
  {
   "cell_type": "code",
   "execution_count": 9,
   "id": "f7d2d908-da73-4875-8d4a-5d84dff26d3e",
   "metadata": {},
   "outputs": [
    {
     "data": {
      "text/html": [
       "<div>\n",
       "<style scoped>\n",
       "    .dataframe tbody tr th:only-of-type {\n",
       "        vertical-align: middle;\n",
       "    }\n",
       "\n",
       "    .dataframe tbody tr th {\n",
       "        vertical-align: top;\n",
       "    }\n",
       "\n",
       "    .dataframe thead th {\n",
       "        text-align: right;\n",
       "    }\n",
       "</style>\n",
       "<table border=\"1\" class=\"dataframe\">\n",
       "  <thead>\n",
       "    <tr style=\"text-align: right;\">\n",
       "      <th></th>\n",
       "      <th>run</th>\n",
       "      <th>open</th>\n",
       "      <th>lookup</th>\n",
       "      <th>read</th>\n",
       "      <th>cache_hits</th>\n",
       "      <th>cache_misses</th>\n",
       "    </tr>\n",
       "    <tr>\n",
       "      <th>type</th>\n",
       "      <th></th>\n",
       "      <th></th>\n",
       "      <th></th>\n",
       "      <th></th>\n",
       "      <th></th>\n",
       "      <th></th>\n",
       "    </tr>\n",
       "  </thead>\n",
       "  <tbody>\n",
       "    <tr>\n",
       "      <th>page</th>\n",
       "      <td>1.0</td>\n",
       "      <td>0.138195</td>\n",
       "      <td>0.184896</td>\n",
       "      <td>0.261222</td>\n",
       "      <td>0.0</td>\n",
       "      <td>0.0</td>\n",
       "    </tr>\n",
       "    <tr>\n",
       "      <th>split</th>\n",
       "      <td>1.0</td>\n",
       "      <td>0.277036</td>\n",
       "      <td>0.004579</td>\n",
       "      <td>0.299406</td>\n",
       "      <td>NaN</td>\n",
       "      <td>NaN</td>\n",
       "    </tr>\n",
       "  </tbody>\n",
       "</table>\n",
       "</div>"
      ],
      "text/plain": [
       "       run      open    lookup      read  cache_hits  cache_misses\n",
       "type                                                              \n",
       "page   1.0  0.138195  0.184896  0.261222         0.0           0.0\n",
       "split  1.0  0.277036  0.004579  0.299406         NaN           NaN"
      ]
     },
     "execution_count": 9,
     "metadata": {},
     "output_type": "execute_result"
    }
   ],
   "source": [
    "df.groupby(\"type\").std()"
   ]
  },
  {
   "cell_type": "code",
   "execution_count": null,
   "id": "19b11d81-b7e2-42b6-b4eb-d5e3ac8181e3",
   "metadata": {},
   "outputs": [],
   "source": []
  }
 ],
 "metadata": {
  "kernelspec": {
   "display_name": "Python 3 (ipykernel)",
   "language": "python",
   "name": "python3"
  },
  "language_info": {
   "codemirror_mode": {
    "name": "ipython",
    "version": 3
   },
   "file_extension": ".py",
   "mimetype": "text/x-python",
   "name": "python",
   "nbconvert_exporter": "python",
   "pygments_lexer": "ipython3",
   "version": "3.10.11"
  }
 },
 "nbformat": 4,
 "nbformat_minor": 5
}
